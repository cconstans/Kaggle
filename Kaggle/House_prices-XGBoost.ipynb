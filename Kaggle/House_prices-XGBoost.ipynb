{
 "cells": [
  {
   "cell_type": "code",
   "execution_count": 5,
   "metadata": {
    "scrolled": true
   },
   "outputs": [
    {
     "name": "stdout",
     "output_type": "stream",
     "text": [
      "preds train 180921.3\n",
      "y train 180921.19589041095\n",
      "preds test 181121.2\n",
      "MAE log train 0.0069640019950959475\n"
     ]
    }
   ],
   "source": [
    "import pandas as pd\n",
    "import numpy as np\n",
    "from sklearn.metrics import mean_absolute_error\n",
    "from sklearn.ensemble import RandomForestRegressor\n",
    "from sklearn.preprocessing import Imputer\n",
    "from xgboost import XGBRegressor\n",
    "\n",
    "test_data = pd.read_csv('test.csv') \n",
    "train_data = pd.read_csv('train.csv') \n",
    "y_train=train_data.SalePrice\n",
    "\n",
    "collist = train_data.columns.tolist()\n",
    "# print(collist)\n",
    "collist.remove('SalePrice')\n",
    "X_train = train_data[collist]\n",
    "X_test=test_data[collist]\n",
    "\n",
    "# train_data.describe\n",
    "train_data_encoded=pd.get_dummies(X_train)\n",
    "test_data_encoded=pd.get_dummies(X_test)\n",
    "final_train, final_test = train_data_encoded.align(test_data_encoded, join='left',axis=1)\n",
    "\n",
    "my_imputer = Imputer()\n",
    "train_data_encoded_imputed = my_imputer.fit_transform(final_train)\n",
    "test_data_encoded_imputed = my_imputer.transform(final_test)\n",
    "\n",
    "model = XGBRegressor(n_estimators=1000)\n",
    "\n",
    "model.fit(train_data_encoded_imputed, y_train,verbose=False)\n",
    "preds_test = model.predict(test_data_encoded_imputed)\n",
    "preds_train = model.predict(train_data_encoded_imputed)\n",
    "MAE=mean_absolute_error(np.log(y_train),np.log(preds_train))\n",
    "print('preds train', np.mean(preds_train))\n",
    "print('y train',np.mean(y_train))\n",
    "print('preds test',np.mean(preds_test))\n",
    "print('MAE log train',MAE)"
   ]
  },
  {
   "cell_type": "code",
   "execution_count": 6,
   "metadata": {
    "scrolled": true
   },
   "outputs": [],
   "source": [
    "\n",
    "my_submission = pd.DataFrame({'Id': test_data.Id, 'SalePrice': preds_test})\n",
    "my_submission.to_csv('submission 2.csv', index=False)"
   ]
  },
  {
   "cell_type": "code",
   "execution_count": null,
   "metadata": {},
   "outputs": [],
   "source": []
  }
 ],
 "metadata": {
  "kernelspec": {
   "display_name": "Python 3",
   "language": "python",
   "name": "python3"
  },
  "language_info": {
   "codemirror_mode": {
    "name": "ipython",
    "version": 3
   },
   "file_extension": ".py",
   "mimetype": "text/x-python",
   "name": "python",
   "nbconvert_exporter": "python",
   "pygments_lexer": "ipython3",
   "version": "3.7.0"
  }
 },
 "nbformat": 4,
 "nbformat_minor": 2
}
