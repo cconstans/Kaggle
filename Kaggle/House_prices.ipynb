{
 "cells": [
  {
   "cell_type": "code",
   "execution_count": 1,
   "metadata": {
    "scrolled": false
   },
   "outputs": [
    {
     "name": "stderr",
     "output_type": "stream",
     "text": [
      "C:\\Users\\Administrateur.000\\Anaconda3\\lib\\site-packages\\sklearn\\ensemble\\weight_boosting.py:29: DeprecationWarning: numpy.core.umath_tests is an internal NumPy module and should not be imported. It will be removed in a future NumPy release.\n",
      "  from numpy.core.umath_tests import inner1d\n"
     ]
    },
    {
     "name": "stdout",
     "output_type": "stream",
     "text": [
      "preds train 181029.6733561644\n",
      "y train 180921.19589041095\n",
      "preds test 178538.7709389993\n",
      "MAE log train 0.04277272183547717\n"
     ]
    }
   ],
   "source": [
    "import pandas as pd\n",
    "import numpy as np\n",
    "from sklearn.metrics import mean_absolute_error\n",
    "from sklearn.ensemble import RandomForestRegressor\n",
    "from sklearn.preprocessing import Imputer\n",
    "\n",
    "test_data = pd.read_csv('test.csv') \n",
    "train_data = pd.read_csv('train.csv') \n",
    "y_train=train_data.SalePrice\n",
    "\n",
    "collist = train_data.columns.tolist()\n",
    "# print(collist)\n",
    "collist.remove('SalePrice')\n",
    "X_train = train_data[collist]\n",
    "X_test=test_data[collist]\n",
    "\n",
    "# train_data.describe\n",
    "train_data_encoded=pd.get_dummies(X_train)\n",
    "test_data_encoded=pd.get_dummies(X_test)\n",
    "final_train, final_test = train_data_encoded.align(test_data_encoded, join='left',axis=1)\n",
    "\n",
    "my_imputer = Imputer()\n",
    "train_data_encoded_imputed = my_imputer.fit_transform(final_train)\n",
    "test_data_encoded_imputed = my_imputer.transform(final_test)\n",
    "\n",
    "forest_model = RandomForestRegressor(random_state=1)\n",
    "\n",
    "\n",
    "forest_model.fit(train_data_encoded_imputed, y_train)\n",
    "preds_test = forest_model.predict(test_data_encoded_imputed)\n",
    "preds_train = forest_model.predict(train_data_encoded_imputed)\n",
    "MAE=mean_absolute_error(np.log(y_train),np.log(preds_train))\n",
    "print('preds train', np.mean(preds_train))\n",
    "print('y train',np.mean(y_train))\n",
    "print('preds test',np.mean(preds_test))\n",
    "print('MAE log train',MAE)\n"
   ]
  },
  {
   "cell_type": "code",
   "execution_count": 2,
   "metadata": {
    "scrolled": true
   },
   "outputs": [
    {
     "name": "stdout",
     "output_type": "stream",
     "text": [
      "             0\n",
      "0     130390.0\n",
      "1     150650.0\n",
      "2     172050.0\n",
      "3     184725.0\n",
      "4     197760.1\n",
      "5     190550.0\n",
      "6     170190.0\n",
      "7     179800.0\n",
      "8     186370.1\n",
      "9     120585.0\n",
      "10    193331.5\n",
      "11     96550.0\n",
      "12     99900.0\n",
      "13    154945.0\n",
      "14    137280.0\n",
      "15    363910.7\n",
      "16    270425.2\n",
      "17    293934.8\n",
      "18    288338.2\n",
      "19    453986.1\n",
      "20    316139.0\n",
      "21    214634.0\n",
      "22    179548.0\n",
      "23    170215.0\n",
      "24    174890.0\n",
      "25    196870.0\n",
      "26    359681.4\n",
      "27    247567.0\n",
      "28    218421.5\n",
      "29    199250.0\n",
      "...        ...\n",
      "1429   81990.0\n",
      "1430  138990.0\n",
      "1431   56500.0\n",
      "1432  100560.0\n",
      "1433   61370.0\n",
      "1434  292822.8\n",
      "1435  273100.0\n",
      "1436  192985.0\n",
      "1437  141715.3\n",
      "1438  234882.7\n",
      "1439  161915.0\n",
      "1440  206495.0\n",
      "1441  190107.9\n",
      "1442  339665.9\n",
      "1443  351978.8\n",
      "1444  129000.0\n",
      "1445  194085.9\n",
      "1446  114650.0\n",
      "1447  128650.0\n",
      "1448  143135.0\n",
      "1449   84140.0\n",
      "1450   83200.0\n",
      "1451  146340.0\n",
      "1452   97700.0\n",
      "1453   83290.0\n",
      "1454   81490.0\n",
      "1455   89750.0\n",
      "1456  153445.0\n",
      "1457  120010.0\n",
      "1458  211690.0\n",
      "\n",
      "[1459 rows x 1 columns]\n"
     ]
    }
   ],
   "source": [
    "my_submission = pd.DataFrame({'Id': test_data.Id, 'SalePrice': preds_test})\n",
    "my_submission.to_csv('submission 1.csv', index=False)"
   ]
  },
  {
   "cell_type": "code",
   "execution_count": null,
   "metadata": {},
   "outputs": [],
   "source": []
  }
 ],
 "metadata": {
  "kernelspec": {
   "display_name": "Python 3",
   "language": "python",
   "name": "python3"
  },
  "language_info": {
   "codemirror_mode": {
    "name": "ipython",
    "version": 3
   },
   "file_extension": ".py",
   "mimetype": "text/x-python",
   "name": "python",
   "nbconvert_exporter": "python",
   "pygments_lexer": "ipython3",
   "version": "3.7.0"
  }
 },
 "nbformat": 4,
 "nbformat_minor": 2
}
