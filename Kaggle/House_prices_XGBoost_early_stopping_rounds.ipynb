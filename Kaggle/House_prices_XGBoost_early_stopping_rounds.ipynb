{
 "cells": [
  {
   "cell_type": "code",
   "execution_count": 20,
   "metadata": {
    "scrolled": true
   },
   "outputs": [
    {
     "name": "stderr",
     "output_type": "stream",
     "text": [
      "C:\\Users\\Administrateur.000\\Anaconda3\\lib\\site-packages\\ipykernel_launcher.py:21: FutureWarning: Method .as_matrix will be removed in a future version. Use .values instead.\n"
     ]
    },
    {
     "name": "stdout",
     "output_type": "stream",
     "text": [
      "preds train 181303.77\n",
      "y train 181370.13926940638\n",
      "preds test 178215.6\n",
      "MAE log train 0.06837031184989077\n",
      "MAE log test 0.08395652708823247\n"
     ]
    }
   ],
   "source": [
    "import pandas as pd\n",
    "import numpy as np\n",
    "from sklearn.metrics import mean_absolute_error\n",
    "from sklearn.ensemble import RandomForestRegressor\n",
    "from sklearn.preprocessing import Imputer\n",
    "from xgboost import XGBRegressor\n",
    "from sklearn.model_selection import train_test_split\n",
    "\n",
    "train_data = pd.read_csv('train.csv') \n",
    "y_train=train_data.SalePrice\n",
    "\n",
    "\n",
    "collist = train_data.columns.tolist()\n",
    "# print(collist)\n",
    "collist.remove('SalePrice')\n",
    "X_train = train_data[collist]\n",
    "\n",
    "# train_data.describe\n",
    "train_data_encoded=pd.get_dummies(X_train)\n",
    "\n",
    "train_X, test_X, train_y, test_y = train_test_split(train_data_encoded.as_matrix(), y_train.as_matrix(), test_size=0.1)\n",
    "train_X=pd.DataFrame(train_X)\n",
    "test_X=pd.DataFrame(test_X)\n",
    "final_train, final_test = train_X.align(test_X, join='left',axis=1)\n",
    "\n",
    "my_imputer = Imputer()\n",
    "train_data_encoded_imputed = my_imputer.fit_transform(final_train)\n",
    "test_data_encoded_imputed = my_imputer.transform(final_test)\n",
    "\n",
    "model = XGBRegressor()\n",
    "\n",
    "model.fit(train_data_encoded_imputed, train_y, early_stopping_rounds=5, \n",
    "             eval_set=[(test_data_encoded_imputed, test_y)],verbose=False)\n",
    "preds_test = model.predict(test_data_encoded_imputed)\n",
    "preds_train = model.predict(train_data_encoded_imputed)\n",
    "MAE_train=mean_absolute_error(np.log(train_y),np.log(preds_train))\n",
    "MAE_test=mean_absolute_error(np.log(test_y),np.log(preds_test))\n",
    "print('preds train', np.mean(preds_train))\n",
    "print('y train',np.mean(train_y))\n",
    "print('preds test',np.mean(preds_test))\n",
    "print('MAE log train',MAE_train)\n",
    "print('MAE log test',MAE_test)\n"
   ]
  },
  {
   "cell_type": "code",
   "execution_count": 19,
   "metadata": {},
   "outputs": [
    {
     "name": "stdout",
     "output_type": "stream",
     "text": [
      "preds test 170889.25\n"
     ]
    }
   ],
   "source": [
    "data = pd.read_csv('test.csv') \n",
    "X=data[collist]\n",
    "data_encoded=pd.get_dummies(X)\n",
    "final_train, final_data = train_X.align(data_encoded, join='left',axis=1)\n",
    "data_encoded_imputed = my_imputer.transform(final_data)\n",
    "preds=model.predict(data_encoded_imputed)\n",
    "print('preds test',np.mean(preds))"
   ]
  },
  {
   "cell_type": "code",
   "execution_count": 16,
   "metadata": {
    "scrolled": true
   },
   "outputs": [],
   "source": [
    "my_submission = pd.DataFrame({'Id': data.Id, 'SalePrice': preds})\n",
    "my_submission.to_csv('submission 3.csv', index=False)"
   ]
  },
  {
   "cell_type": "code",
   "execution_count": null,
   "metadata": {},
   "outputs": [],
   "source": []
  }
 ],
 "metadata": {
  "kernelspec": {
   "display_name": "Python 3",
   "language": "python",
   "name": "python3"
  },
  "language_info": {
   "codemirror_mode": {
    "name": "ipython",
    "version": 3
   },
   "file_extension": ".py",
   "mimetype": "text/x-python",
   "name": "python",
   "nbconvert_exporter": "python",
   "pygments_lexer": "ipython3",
   "version": "3.7.0"
  }
 },
 "nbformat": 4,
 "nbformat_minor": 2
}
